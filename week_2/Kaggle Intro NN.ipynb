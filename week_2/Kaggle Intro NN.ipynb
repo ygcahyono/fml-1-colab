{
 "cells": [
  {
   "cell_type": "code",
   "execution_count": 1,
   "id": "13d58d2f",
   "metadata": {},
   "outputs": [
    {
     "name": "stderr",
     "output_type": "stream",
     "text": [
      "/var/folders/hf/0mp7k_vd30z8kr8nkwwh037m0000gn/T/ipykernel_49017/3251733192.py:4: MatplotlibDeprecationWarning: The seaborn styles shipped by Matplotlib are deprecated since 3.6, as they no longer correspond to the styles shipped by seaborn. However, they will remain available as 'seaborn-v0_8-<style>'. Alternatively, directly use the seaborn API instead.\n",
      "  plt.style.use('seaborn-whitegrid')\n"
     ]
    }
   ],
   "source": [
    "# Setup plotting\n",
    "import matplotlib.pyplot as plt\n",
    "\n",
    "plt.style.use('seaborn-whitegrid')\n",
    "# Set Matplotlib defaults\n",
    "plt.rc('figure', autolayout=True)\n",
    "plt.rc('axes', labelweight='bold', labelsize='large',\n",
    "       titleweight='bold', titlesize=18, titlepad=10)"
   ]
  },
  {
   "cell_type": "code",
   "execution_count": 2,
   "id": "fd8b16fe",
   "metadata": {},
   "outputs": [
    {
     "data": {
      "text/html": [
       "<div>\n",
       "<style scoped>\n",
       "    .dataframe tbody tr th:only-of-type {\n",
       "        vertical-align: middle;\n",
       "    }\n",
       "\n",
       "    .dataframe tbody tr th {\n",
       "        vertical-align: top;\n",
       "    }\n",
       "\n",
       "    .dataframe thead th {\n",
       "        text-align: right;\n",
       "    }\n",
       "</style>\n",
       "<table border=\"1\" class=\"dataframe\">\n",
       "  <thead>\n",
       "    <tr style=\"text-align: right;\">\n",
       "      <th></th>\n",
       "      <th>fixed acidity</th>\n",
       "      <th>volatile acidity</th>\n",
       "      <th>citric acid</th>\n",
       "      <th>residual sugar</th>\n",
       "      <th>chlorides</th>\n",
       "      <th>free sulfur dioxide</th>\n",
       "      <th>total sulfur dioxide</th>\n",
       "      <th>density</th>\n",
       "      <th>pH</th>\n",
       "      <th>sulphates</th>\n",
       "      <th>alcohol</th>\n",
       "      <th>quality</th>\n",
       "    </tr>\n",
       "  </thead>\n",
       "  <tbody>\n",
       "    <tr>\n",
       "      <th>0</th>\n",
       "      <td>7.4</td>\n",
       "      <td>0.70</td>\n",
       "      <td>0.00</td>\n",
       "      <td>1.9</td>\n",
       "      <td>0.076</td>\n",
       "      <td>11.0</td>\n",
       "      <td>34.0</td>\n",
       "      <td>0.9978</td>\n",
       "      <td>3.51</td>\n",
       "      <td>0.56</td>\n",
       "      <td>9.4</td>\n",
       "      <td>5</td>\n",
       "    </tr>\n",
       "    <tr>\n",
       "      <th>1</th>\n",
       "      <td>7.8</td>\n",
       "      <td>0.88</td>\n",
       "      <td>0.00</td>\n",
       "      <td>2.6</td>\n",
       "      <td>0.098</td>\n",
       "      <td>25.0</td>\n",
       "      <td>67.0</td>\n",
       "      <td>0.9968</td>\n",
       "      <td>3.20</td>\n",
       "      <td>0.68</td>\n",
       "      <td>9.8</td>\n",
       "      <td>5</td>\n",
       "    </tr>\n",
       "    <tr>\n",
       "      <th>2</th>\n",
       "      <td>7.8</td>\n",
       "      <td>0.76</td>\n",
       "      <td>0.04</td>\n",
       "      <td>2.3</td>\n",
       "      <td>0.092</td>\n",
       "      <td>15.0</td>\n",
       "      <td>54.0</td>\n",
       "      <td>0.9970</td>\n",
       "      <td>3.26</td>\n",
       "      <td>0.65</td>\n",
       "      <td>9.8</td>\n",
       "      <td>5</td>\n",
       "    </tr>\n",
       "    <tr>\n",
       "      <th>3</th>\n",
       "      <td>11.2</td>\n",
       "      <td>0.28</td>\n",
       "      <td>0.56</td>\n",
       "      <td>1.9</td>\n",
       "      <td>0.075</td>\n",
       "      <td>17.0</td>\n",
       "      <td>60.0</td>\n",
       "      <td>0.9980</td>\n",
       "      <td>3.16</td>\n",
       "      <td>0.58</td>\n",
       "      <td>9.8</td>\n",
       "      <td>6</td>\n",
       "    </tr>\n",
       "    <tr>\n",
       "      <th>4</th>\n",
       "      <td>7.4</td>\n",
       "      <td>0.70</td>\n",
       "      <td>0.00</td>\n",
       "      <td>1.9</td>\n",
       "      <td>0.076</td>\n",
       "      <td>11.0</td>\n",
       "      <td>34.0</td>\n",
       "      <td>0.9978</td>\n",
       "      <td>3.51</td>\n",
       "      <td>0.56</td>\n",
       "      <td>9.4</td>\n",
       "      <td>5</td>\n",
       "    </tr>\n",
       "  </tbody>\n",
       "</table>\n",
       "</div>"
      ],
      "text/plain": [
       "   fixed acidity  volatile acidity  citric acid  residual sugar  chlorides  \\\n",
       "0            7.4              0.70         0.00             1.9      0.076   \n",
       "1            7.8              0.88         0.00             2.6      0.098   \n",
       "2            7.8              0.76         0.04             2.3      0.092   \n",
       "3           11.2              0.28         0.56             1.9      0.075   \n",
       "4            7.4              0.70         0.00             1.9      0.076   \n",
       "\n",
       "   free sulfur dioxide  total sulfur dioxide  density    pH  sulphates  \\\n",
       "0                 11.0                  34.0   0.9978  3.51       0.56   \n",
       "1                 25.0                  67.0   0.9968  3.20       0.68   \n",
       "2                 15.0                  54.0   0.9970  3.26       0.65   \n",
       "3                 17.0                  60.0   0.9980  3.16       0.58   \n",
       "4                 11.0                  34.0   0.9978  3.51       0.56   \n",
       "\n",
       "   alcohol  quality  \n",
       "0      9.4        5  \n",
       "1      9.8        5  \n",
       "2      9.8        5  \n",
       "3      9.8        6  \n",
       "4      9.4        5  "
      ]
     },
     "execution_count": 2,
     "metadata": {},
     "output_type": "execute_result"
    }
   ],
   "source": [
    "import pandas as pd\n",
    "\n",
    "red_wine = pd.read_csv('../dl-course-data/red-wine.csv')\n",
    "red_wine.head()"
   ]
  },
  {
   "cell_type": "code",
   "execution_count": 3,
   "id": "ab3ec2f0",
   "metadata": {},
   "outputs": [
    {
     "data": {
      "text/plain": [
       "(1599, 12)"
      ]
     },
     "execution_count": 3,
     "metadata": {},
     "output_type": "execute_result"
    }
   ],
   "source": [
    "red_wine.shape # (rows, columns)"
   ]
  },
  {
   "cell_type": "code",
   "execution_count": 4,
   "id": "998d5768",
   "metadata": {},
   "outputs": [],
   "source": [
    "# YOUR CODE HERE\n",
    "input_shape = [red_wine.shape[1] - 1]"
   ]
  },
  {
   "cell_type": "code",
   "execution_count": 5,
   "id": "f843d796",
   "metadata": {},
   "outputs": [
    {
     "data": {
      "text/plain": [
       "[11]"
      ]
     },
     "execution_count": 5,
     "metadata": {},
     "output_type": "execute_result"
    }
   ],
   "source": [
    "input_shape"
   ]
  },
  {
   "cell_type": "code",
   "execution_count": 6,
   "id": "2c216f09",
   "metadata": {},
   "outputs": [
    {
     "name": "stdout",
     "output_type": "stream",
     "text": [
      "Metal device set to: Apple M1\n"
     ]
    },
    {
     "name": "stderr",
     "output_type": "stream",
     "text": [
      "2023-01-23 01:05:06.568956: I tensorflow/core/common_runtime/pluggable_device/pluggable_device_factory.cc:305] Could not identify NUMA node of platform GPU ID 0, defaulting to 0. Your kernel may not have been built with NUMA support.\n",
      "2023-01-23 01:05:06.569066: I tensorflow/core/common_runtime/pluggable_device/pluggable_device_factory.cc:271] Created TensorFlow device (/job:localhost/replica:0/task:0/device:GPU:0 with 0 MB memory) -> physical PluggableDevice (device: 0, name: METAL, pci bus id: <undefined>)\n"
     ]
    }
   ],
   "source": [
    "from tensorflow import keras\n",
    "from tensorflow.keras import layers\n",
    "\n",
    "# YOUR CODE HERE\n",
    "model = keras.Sequential([\n",
    "    layers.Dense(units = 1, input_shape = input_shape)\n",
    "])\n"
   ]
  },
  {
   "cell_type": "code",
   "execution_count": 7,
   "id": "5fbf0fae",
   "metadata": {},
   "outputs": [],
   "source": [
    "# YOUR CODE HERE\n",
    "w, b = model.weights"
   ]
  },
  {
   "cell_type": "code",
   "execution_count": 8,
   "id": "24f7321c",
   "metadata": {},
   "outputs": [
    {
     "name": "stdout",
     "output_type": "stream",
     "text": [
      "4/4 [==============================] - 0s 3ms/step\n"
     ]
    },
    {
     "name": "stderr",
     "output_type": "stream",
     "text": [
      "2023-01-23 01:05:06.714567: W tensorflow/core/platform/profile_utils/cpu_utils.cc:128] Failed to get CPU frequency: 0 Hz\n",
      "2023-01-23 01:05:06.741866: I tensorflow/core/grappler/optimizers/custom_graph_optimizer_registry.cc:113] Plugin optimizer for device_type GPU is enabled.\n"
     ]
    },
    {
     "data": {
      "image/png": "[encoded data removed]",
      "text/plain": [
       "<Figure size 640x480 with 1 Axes>"
      ]
     },
     "metadata": {},
     "output_type": "display_data"
    }
   ],
   "source": [
    "import tensorflow as tf\n",
    "import matplotlib.pyplot as plt\n",
    "\n",
    "model = keras.Sequential([\n",
    "    layers.Dense(1, input_shape=[1]),\n",
    "])\n",
    "\n",
    "x = tf.linspace(-1.0, 1.0, 100)\n",
    "y = model.predict(x)\n",
    "\n",
    "plt.figure(dpi=100)\n",
    "plt.plot(x, y, 'k')\n",
    "plt.xlim(-1, 1)\n",
    "plt.ylim(-1, 1)\n",
    "plt.xlabel(\"Input: x\")\n",
    "plt.ylabel(\"Target y\")\n",
    "w, b = model.weights # you could also use model.get_weights() here\n",
    "plt.title(\"Weight: {:0.2f}\\nBias: {:0.2f}\".format(w[0][0], b[0]))\n",
    "plt.show()"
   ]
  },
  {
   "cell_type": "markdown",
   "id": "3f74b242",
   "metadata": {},
   "source": [
    "---"
   ]
  },
  {
   "cell_type": "code",
   "execution_count": 14,
   "id": "ddaf1224",
   "metadata": {},
   "outputs": [
    {
     "name": "stderr",
     "output_type": "stream",
     "text": [
      "/var/folders/hf/0mp7k_vd30z8kr8nkwwh037m0000gn/T/ipykernel_49017/679629310.py:4: MatplotlibDeprecationWarning: The seaborn styles shipped by Matplotlib are deprecated since 3.6, as they no longer correspond to the styles shipped by seaborn. However, they will remain available as 'seaborn-v0_8-<style>'. Alternatively, directly use the seaborn API instead.\n",
      "  plt.style.use('seaborn-whitegrid')\n"
     ]
    }
   ],
   "source": [
    "# Setup plotting\n",
    "import matplotlib.pyplot as plt\n",
    "from dl_tools import animate_sgd\n",
    "plt.style.use('seaborn-whitegrid')\n",
    "# Set Matplotlib defaults\n",
    "plt.rc('figure', autolayout=True)\n",
    "plt.rc('axes', labelweight='bold', labelsize='large',\n",
    "       titleweight='bold', titlesize=18, titlepad=10)\n",
    "plt.rc('animation', html='html5')\n",
    "\n",
    "# Setup feedback system\n",
    "# from learntools.core import binder\n",
    "# binder.bind(globals())"
   ]
  },
  {
   "cell_type": "code",
   "execution_count": 15,
   "id": "ff2f8cf6",
   "metadata": {},
   "outputs": [
    {
     "name": "stdout",
     "output_type": "stream",
     "text": [
      "Input shape: [50]\n"
     ]
    },
    {
     "name": "stderr",
     "output_type": "stream",
     "text": [
      "/Users/yogi/miniconda3/envs/tensorflow/lib/python3.10/site-packages/sklearn/preprocessing/_encoders.py:808: FutureWarning: `sparse` was renamed to `sparse_output` in version 1.2 and will be removed in 1.4. `sparse_output` is ignored unless you leave `sparse` to its default value.\n",
      "  warnings.warn(\n"
     ]
    }
   ],
   "source": [
    "import numpy as np\n",
    "import pandas as pd\n",
    "from sklearn.preprocessing import StandardScaler, OneHotEncoder\n",
    "from sklearn.compose import make_column_transformer, make_column_selector\n",
    "from sklearn.model_selection import train_test_split\n",
    "\n",
    "fuel = pd.read_csv('../dl-course-data/fuel.csv')\n",
    "\n",
    "X = fuel.copy()\n",
    "# Remove target\n",
    "y = X.pop('FE')\n",
    "\n",
    "preprocessor = make_column_transformer(\n",
    "    (StandardScaler(),\n",
    "     make_column_selector(dtype_include=np.number)),\n",
    "    (OneHotEncoder(sparse=False),\n",
    "     make_column_selector(dtype_include=object)),\n",
    ")\n",
    "\n",
    "X = preprocessor.fit_transform(X)\n",
    "y = np.log(y) # log transform target instead of standardizing\n",
    "\n",
    "input_shape = [X.shape[1]]\n",
    "print(\"Input shape: {}\".format(input_shape))"
   ]
  },
  {
   "cell_type": "code",
   "execution_count": 25,
   "id": "0964eeb4",
   "metadata": {},
   "outputs": [],
   "source": [
    "X = fuel.copy()\n",
    "# Remove target\n",
    "y = X.pop('FE')"
   ]
  },
  {
   "cell_type": "code",
   "execution_count": 27,
   "id": "8c696cf7",
   "metadata": {},
   "outputs": [
    {
     "data": {
      "text/html": [
       "<div>\n",
       "<style scoped>\n",
       "    .dataframe tbody tr th:only-of-type {\n",
       "        vertical-align: middle;\n",
       "    }\n",
       "\n",
       "    .dataframe tbody tr th {\n",
       "        vertical-align: top;\n",
       "    }\n",
       "\n",
       "    .dataframe thead th {\n",
       "        text-align: right;\n",
       "    }\n",
       "</style>\n",
       "<table border=\"1\" class=\"dataframe\">\n",
       "  <thead>\n",
       "    <tr style=\"text-align: right;\">\n",
       "      <th></th>\n",
       "      <th>EngDispl</th>\n",
       "      <th>NumCyl</th>\n",
       "      <th>Transmission</th>\n",
       "      <th>AirAspirationMethod</th>\n",
       "      <th>NumGears</th>\n",
       "      <th>TransLockup</th>\n",
       "      <th>TransCreeperGear</th>\n",
       "      <th>DriveDesc</th>\n",
       "      <th>IntakeValvePerCyl</th>\n",
       "      <th>ExhaustValvesPerCyl</th>\n",
       "      <th>CarlineClassDesc</th>\n",
       "      <th>VarValveTiming</th>\n",
       "      <th>VarValveLift</th>\n",
       "    </tr>\n",
       "  </thead>\n",
       "  <tbody>\n",
       "    <tr>\n",
       "      <th>0</th>\n",
       "      <td>4.7</td>\n",
       "      <td>8</td>\n",
       "      <td>AM6</td>\n",
       "      <td>NaturallyAspirated</td>\n",
       "      <td>6</td>\n",
       "      <td>1</td>\n",
       "      <td>0</td>\n",
       "      <td>TwoWheelDriveRear</td>\n",
       "      <td>2</td>\n",
       "      <td>2</td>\n",
       "      <td>2Seaters</td>\n",
       "      <td>1</td>\n",
       "      <td>0</td>\n",
       "    </tr>\n",
       "    <tr>\n",
       "      <th>1</th>\n",
       "      <td>4.7</td>\n",
       "      <td>8</td>\n",
       "      <td>M6</td>\n",
       "      <td>NaturallyAspirated</td>\n",
       "      <td>6</td>\n",
       "      <td>1</td>\n",
       "      <td>0</td>\n",
       "      <td>TwoWheelDriveRear</td>\n",
       "      <td>2</td>\n",
       "      <td>2</td>\n",
       "      <td>2Seaters</td>\n",
       "      <td>1</td>\n",
       "      <td>0</td>\n",
       "    </tr>\n",
       "    <tr>\n",
       "      <th>2</th>\n",
       "      <td>4.2</td>\n",
       "      <td>8</td>\n",
       "      <td>M6</td>\n",
       "      <td>NaturallyAspirated</td>\n",
       "      <td>6</td>\n",
       "      <td>1</td>\n",
       "      <td>0</td>\n",
       "      <td>AllWheelDrive</td>\n",
       "      <td>2</td>\n",
       "      <td>2</td>\n",
       "      <td>2Seaters</td>\n",
       "      <td>1</td>\n",
       "      <td>0</td>\n",
       "    </tr>\n",
       "    <tr>\n",
       "      <th>3</th>\n",
       "      <td>4.2</td>\n",
       "      <td>8</td>\n",
       "      <td>AM6</td>\n",
       "      <td>NaturallyAspirated</td>\n",
       "      <td>6</td>\n",
       "      <td>1</td>\n",
       "      <td>0</td>\n",
       "      <td>AllWheelDrive</td>\n",
       "      <td>2</td>\n",
       "      <td>2</td>\n",
       "      <td>2Seaters</td>\n",
       "      <td>1</td>\n",
       "      <td>0</td>\n",
       "    </tr>\n",
       "    <tr>\n",
       "      <th>4</th>\n",
       "      <td>5.2</td>\n",
       "      <td>10</td>\n",
       "      <td>AM6</td>\n",
       "      <td>NaturallyAspirated</td>\n",
       "      <td>6</td>\n",
       "      <td>0</td>\n",
       "      <td>0</td>\n",
       "      <td>AllWheelDrive</td>\n",
       "      <td>2</td>\n",
       "      <td>2</td>\n",
       "      <td>2Seaters</td>\n",
       "      <td>1</td>\n",
       "      <td>0</td>\n",
       "    </tr>\n",
       "    <tr>\n",
       "      <th>...</th>\n",
       "      <td>...</td>\n",
       "      <td>...</td>\n",
       "      <td>...</td>\n",
       "      <td>...</td>\n",
       "      <td>...</td>\n",
       "      <td>...</td>\n",
       "      <td>...</td>\n",
       "      <td>...</td>\n",
       "      <td>...</td>\n",
       "      <td>...</td>\n",
       "      <td>...</td>\n",
       "      <td>...</td>\n",
       "      <td>...</td>\n",
       "    </tr>\n",
       "    <tr>\n",
       "      <th>1102</th>\n",
       "      <td>3.2</td>\n",
       "      <td>6</td>\n",
       "      <td>S6</td>\n",
       "      <td>NaturallyAspirated</td>\n",
       "      <td>6</td>\n",
       "      <td>1</td>\n",
       "      <td>0</td>\n",
       "      <td>AllWheelDrive</td>\n",
       "      <td>2</td>\n",
       "      <td>2</td>\n",
       "      <td>SpecialPurposeVehicleSUV4WD</td>\n",
       "      <td>1</td>\n",
       "      <td>0</td>\n",
       "    </tr>\n",
       "    <tr>\n",
       "      <th>1103</th>\n",
       "      <td>3.0</td>\n",
       "      <td>6</td>\n",
       "      <td>S6</td>\n",
       "      <td>Turbocharged</td>\n",
       "      <td>6</td>\n",
       "      <td>1</td>\n",
       "      <td>0</td>\n",
       "      <td>AllWheelDrive</td>\n",
       "      <td>2</td>\n",
       "      <td>2</td>\n",
       "      <td>SpecialPurposeVehicleSUV4WD</td>\n",
       "      <td>1</td>\n",
       "      <td>0</td>\n",
       "    </tr>\n",
       "    <tr>\n",
       "      <th>1104</th>\n",
       "      <td>3.2</td>\n",
       "      <td>6</td>\n",
       "      <td>S6</td>\n",
       "      <td>NaturallyAspirated</td>\n",
       "      <td>6</td>\n",
       "      <td>1</td>\n",
       "      <td>0</td>\n",
       "      <td>AllWheelDrive</td>\n",
       "      <td>2</td>\n",
       "      <td>2</td>\n",
       "      <td>SpecialPurposeVehicleSUV4WD</td>\n",
       "      <td>1</td>\n",
       "      <td>0</td>\n",
       "    </tr>\n",
       "    <tr>\n",
       "      <th>1105</th>\n",
       "      <td>3.2</td>\n",
       "      <td>6</td>\n",
       "      <td>S6</td>\n",
       "      <td>NaturallyAspirated</td>\n",
       "      <td>6</td>\n",
       "      <td>1</td>\n",
       "      <td>0</td>\n",
       "      <td>AllWheelDrive</td>\n",
       "      <td>2</td>\n",
       "      <td>2</td>\n",
       "      <td>SpecialPurposeVehicleSUV4WD</td>\n",
       "      <td>1</td>\n",
       "      <td>0</td>\n",
       "    </tr>\n",
       "    <tr>\n",
       "      <th>1106</th>\n",
       "      <td>4.4</td>\n",
       "      <td>8</td>\n",
       "      <td>S6</td>\n",
       "      <td>NaturallyAspirated</td>\n",
       "      <td>6</td>\n",
       "      <td>1</td>\n",
       "      <td>0</td>\n",
       "      <td>AllWheelDrive</td>\n",
       "      <td>2</td>\n",
       "      <td>2</td>\n",
       "      <td>SpecialPurposeVehicleSUV4WD</td>\n",
       "      <td>1</td>\n",
       "      <td>0</td>\n",
       "    </tr>\n",
       "  </tbody>\n",
       "</table>\n",
       "<p>1107 rows × 13 columns</p>\n",
       "</div>"
      ],
      "text/plain": [
       "      EngDispl  NumCyl Transmission AirAspirationMethod  NumGears  \\\n",
       "0          4.7       8          AM6  NaturallyAspirated         6   \n",
       "1          4.7       8           M6  NaturallyAspirated         6   \n",
       "2          4.2       8           M6  NaturallyAspirated         6   \n",
       "3          4.2       8          AM6  NaturallyAspirated         6   \n",
       "4          5.2      10          AM6  NaturallyAspirated         6   \n",
       "...        ...     ...          ...                 ...       ...   \n",
       "1102       3.2       6           S6  NaturallyAspirated         6   \n",
       "1103       3.0       6           S6        Turbocharged         6   \n",
       "1104       3.2       6           S6  NaturallyAspirated         6   \n",
       "1105       3.2       6           S6  NaturallyAspirated         6   \n",
       "1106       4.4       8           S6  NaturallyAspirated         6   \n",
       "\n",
       "      TransLockup  TransCreeperGear          DriveDesc  IntakeValvePerCyl  \\\n",
       "0               1                 0  TwoWheelDriveRear                  2   \n",
       "1               1                 0  TwoWheelDriveRear                  2   \n",
       "2               1                 0      AllWheelDrive                  2   \n",
       "3               1                 0      AllWheelDrive                  2   \n",
       "4               0                 0      AllWheelDrive                  2   \n",
       "...           ...               ...                ...                ...   \n",
       "1102            1                 0      AllWheelDrive                  2   \n",
       "1103            1                 0      AllWheelDrive                  2   \n",
       "1104            1                 0      AllWheelDrive                  2   \n",
       "1105            1                 0      AllWheelDrive                  2   \n",
       "1106            1                 0      AllWheelDrive                  2   \n",
       "\n",
       "      ExhaustValvesPerCyl             CarlineClassDesc  VarValveTiming  \\\n",
       "0                       2                     2Seaters               1   \n",
       "1                       2                     2Seaters               1   \n",
       "2                       2                     2Seaters               1   \n",
       "3                       2                     2Seaters               1   \n",
       "4                       2                     2Seaters               1   \n",
       "...                   ...                          ...             ...   \n",
       "1102                    2  SpecialPurposeVehicleSUV4WD               1   \n",
       "1103                    2  SpecialPurposeVehicleSUV4WD               1   \n",
       "1104                    2  SpecialPurposeVehicleSUV4WD               1   \n",
       "1105                    2  SpecialPurposeVehicleSUV4WD               1   \n",
       "1106                    2  SpecialPurposeVehicleSUV4WD               1   \n",
       "\n",
       "      VarValveLift  \n",
       "0                0  \n",
       "1                0  \n",
       "2                0  \n",
       "3                0  \n",
       "4                0  \n",
       "...            ...  \n",
       "1102             0  \n",
       "1103             0  \n",
       "1104             0  \n",
       "1105             0  \n",
       "1106             0  \n",
       "\n",
       "[1107 rows x 13 columns]"
      ]
     },
     "execution_count": 27,
     "metadata": {},
     "output_type": "execute_result"
    }
   ],
   "source": [
    "X"
   ]
  },
  {
   "cell_type": "code",
   "execution_count": 26,
   "id": "59b4f702",
   "metadata": {},
   "outputs": [
    {
     "data": {
      "text/plain": [
       "0       28.0198\n",
       "1       25.6094\n",
       "2       26.8000\n",
       "3       25.0451\n",
       "4       24.8000\n",
       "         ...   \n",
       "1102    30.4926\n",
       "1103    29.7892\n",
       "1104    30.4926\n",
       "1105    29.7431\n",
       "1106    26.2000\n",
       "Name: FE, Length: 1107, dtype: float64"
      ]
     },
     "execution_count": 26,
     "metadata": {},
     "output_type": "execute_result"
    }
   ],
   "source": [
    "y"
   ]
  },
  {
   "cell_type": "code",
   "execution_count": 16,
   "id": "6ed09a3c",
   "metadata": {},
   "outputs": [
    {
     "data": {
      "text/html": [
       "<div>\n",
       "<style scoped>\n",
       "    .dataframe tbody tr th:only-of-type {\n",
       "        vertical-align: middle;\n",
       "    }\n",
       "\n",
       "    .dataframe tbody tr th {\n",
       "        vertical-align: top;\n",
       "    }\n",
       "\n",
       "    .dataframe thead th {\n",
       "        text-align: right;\n",
       "    }\n",
       "</style>\n",
       "<table border=\"1\" class=\"dataframe\">\n",
       "  <thead>\n",
       "    <tr style=\"text-align: right;\">\n",
       "      <th></th>\n",
       "      <th>0</th>\n",
       "      <th>1</th>\n",
       "      <th>2</th>\n",
       "      <th>3</th>\n",
       "      <th>4</th>\n",
       "      <th>5</th>\n",
       "      <th>6</th>\n",
       "      <th>7</th>\n",
       "      <th>8</th>\n",
       "      <th>9</th>\n",
       "      <th>...</th>\n",
       "      <th>40</th>\n",
       "      <th>41</th>\n",
       "      <th>42</th>\n",
       "      <th>43</th>\n",
       "      <th>44</th>\n",
       "      <th>45</th>\n",
       "      <th>46</th>\n",
       "      <th>47</th>\n",
       "      <th>48</th>\n",
       "      <th>49</th>\n",
       "    </tr>\n",
       "  </thead>\n",
       "  <tbody>\n",
       "    <tr>\n",
       "      <th>0</th>\n",
       "      <td>0.913643</td>\n",
       "      <td>1.068005</td>\n",
       "      <td>0.524148</td>\n",
       "      <td>0.685653</td>\n",
       "      <td>-0.226455</td>\n",
       "      <td>0.391659</td>\n",
       "      <td>0.43492</td>\n",
       "      <td>0.463841</td>\n",
       "      <td>-0.447941</td>\n",
       "      <td>0.0</td>\n",
       "      <td>...</td>\n",
       "      <td>0.0</td>\n",
       "      <td>0.0</td>\n",
       "      <td>0.0</td>\n",
       "      <td>0.0</td>\n",
       "      <td>0.0</td>\n",
       "      <td>0.0</td>\n",
       "      <td>0.0</td>\n",
       "      <td>0.0</td>\n",
       "      <td>0.0</td>\n",
       "      <td>0.0</td>\n",
       "    </tr>\n",
       "    <tr>\n",
       "      <th>1</th>\n",
       "      <td>0.913643</td>\n",
       "      <td>1.068005</td>\n",
       "      <td>0.524148</td>\n",
       "      <td>0.685653</td>\n",
       "      <td>-0.226455</td>\n",
       "      <td>0.391659</td>\n",
       "      <td>0.43492</td>\n",
       "      <td>0.463841</td>\n",
       "      <td>-0.447941</td>\n",
       "      <td>0.0</td>\n",
       "      <td>...</td>\n",
       "      <td>0.0</td>\n",
       "      <td>0.0</td>\n",
       "      <td>0.0</td>\n",
       "      <td>0.0</td>\n",
       "      <td>0.0</td>\n",
       "      <td>0.0</td>\n",
       "      <td>0.0</td>\n",
       "      <td>0.0</td>\n",
       "      <td>0.0</td>\n",
       "      <td>0.0</td>\n",
       "    </tr>\n",
       "    <tr>\n",
       "      <th>2</th>\n",
       "      <td>0.530594</td>\n",
       "      <td>1.068005</td>\n",
       "      <td>0.524148</td>\n",
       "      <td>0.685653</td>\n",
       "      <td>-0.226455</td>\n",
       "      <td>0.391659</td>\n",
       "      <td>0.43492</td>\n",
       "      <td>0.463841</td>\n",
       "      <td>-0.447941</td>\n",
       "      <td>0.0</td>\n",
       "      <td>...</td>\n",
       "      <td>0.0</td>\n",
       "      <td>0.0</td>\n",
       "      <td>0.0</td>\n",
       "      <td>0.0</td>\n",
       "      <td>0.0</td>\n",
       "      <td>0.0</td>\n",
       "      <td>0.0</td>\n",
       "      <td>0.0</td>\n",
       "      <td>0.0</td>\n",
       "      <td>0.0</td>\n",
       "    </tr>\n",
       "    <tr>\n",
       "      <th>3</th>\n",
       "      <td>0.530594</td>\n",
       "      <td>1.068005</td>\n",
       "      <td>0.524148</td>\n",
       "      <td>0.685653</td>\n",
       "      <td>-0.226455</td>\n",
       "      <td>0.391659</td>\n",
       "      <td>0.43492</td>\n",
       "      <td>0.463841</td>\n",
       "      <td>-0.447941</td>\n",
       "      <td>0.0</td>\n",
       "      <td>...</td>\n",
       "      <td>0.0</td>\n",
       "      <td>0.0</td>\n",
       "      <td>0.0</td>\n",
       "      <td>0.0</td>\n",
       "      <td>0.0</td>\n",
       "      <td>0.0</td>\n",
       "      <td>0.0</td>\n",
       "      <td>0.0</td>\n",
       "      <td>0.0</td>\n",
       "      <td>0.0</td>\n",
       "    </tr>\n",
       "    <tr>\n",
       "      <th>4</th>\n",
       "      <td>1.296693</td>\n",
       "      <td>2.120794</td>\n",
       "      <td>0.524148</td>\n",
       "      <td>-1.458464</td>\n",
       "      <td>-0.226455</td>\n",
       "      <td>0.391659</td>\n",
       "      <td>0.43492</td>\n",
       "      <td>0.463841</td>\n",
       "      <td>-0.447941</td>\n",
       "      <td>0.0</td>\n",
       "      <td>...</td>\n",
       "      <td>0.0</td>\n",
       "      <td>0.0</td>\n",
       "      <td>0.0</td>\n",
       "      <td>0.0</td>\n",
       "      <td>0.0</td>\n",
       "      <td>0.0</td>\n",
       "      <td>0.0</td>\n",
       "      <td>0.0</td>\n",
       "      <td>0.0</td>\n",
       "      <td>0.0</td>\n",
       "    </tr>\n",
       "  </tbody>\n",
       "</table>\n",
       "<p>5 rows × 50 columns</p>\n",
       "</div>"
      ],
      "text/plain": [
       "         0         1         2         3         4         5        6   \\\n",
       "0  0.913643  1.068005  0.524148  0.685653 -0.226455  0.391659  0.43492   \n",
       "1  0.913643  1.068005  0.524148  0.685653 -0.226455  0.391659  0.43492   \n",
       "2  0.530594  1.068005  0.524148  0.685653 -0.226455  0.391659  0.43492   \n",
       "3  0.530594  1.068005  0.524148  0.685653 -0.226455  0.391659  0.43492   \n",
       "4  1.296693  2.120794  0.524148 -1.458464 -0.226455  0.391659  0.43492   \n",
       "\n",
       "         7         8    9   ...   40   41   42   43   44   45   46   47   48  \\\n",
       "0  0.463841 -0.447941  0.0  ...  0.0  0.0  0.0  0.0  0.0  0.0  0.0  0.0  0.0   \n",
       "1  0.463841 -0.447941  0.0  ...  0.0  0.0  0.0  0.0  0.0  0.0  0.0  0.0  0.0   \n",
       "2  0.463841 -0.447941  0.0  ...  0.0  0.0  0.0  0.0  0.0  0.0  0.0  0.0  0.0   \n",
       "3  0.463841 -0.447941  0.0  ...  0.0  0.0  0.0  0.0  0.0  0.0  0.0  0.0  0.0   \n",
       "4  0.463841 -0.447941  0.0  ...  0.0  0.0  0.0  0.0  0.0  0.0  0.0  0.0  0.0   \n",
       "\n",
       "    49  \n",
       "0  0.0  \n",
       "1  0.0  \n",
       "2  0.0  \n",
       "3  0.0  \n",
       "4  0.0  \n",
       "\n",
       "[5 rows x 50 columns]"
      ]
     },
     "execution_count": 16,
     "metadata": {},
     "output_type": "execute_result"
    }
   ],
   "source": [
    "# Uncomment to see original data\n",
    "fuel.head()\n",
    "# Uncomment to see processed features\n",
    "pd.DataFrame(X[:10,:]).head()"
   ]
  },
  {
   "cell_type": "code",
   "execution_count": 17,
   "id": "956e66fd",
   "metadata": {},
   "outputs": [],
   "source": [
    "from tensorflow import keras\n",
    "from tensorflow.keras import layers\n",
    "\n",
    "model = keras.Sequential([\n",
    "    layers.Dense(128, activation='relu', input_shape=input_shape),\n",
    "    layers.Dense(128, activation='relu'),    \n",
    "    layers.Dense(64, activation='relu'),\n",
    "    layers.Dense(1),\n",
    "])"
   ]
  },
  {
   "cell_type": "code",
   "execution_count": 18,
   "id": "d201179e",
   "metadata": {},
   "outputs": [],
   "source": [
    "model.compile(\n",
    "    optimizer='adam',\n",
    "    loss='mae'\n",
    ")"
   ]
  },
  {
   "cell_type": "code",
   "execution_count": 19,
   "id": "1c97e70b",
   "metadata": {},
   "outputs": [
    {
     "name": "stdout",
     "output_type": "stream",
     "text": [
      "Epoch 1/200\n"
     ]
    },
    {
     "name": "stderr",
     "output_type": "stream",
     "text": [
      "2023-01-23 01:12:28.989204: I tensorflow/core/grappler/optimizers/custom_graph_optimizer_registry.cc:113] Plugin optimizer for device_type GPU is enabled.\n"
     ]
    },
    {
     "name": "stdout",
     "output_type": "stream",
     "text": [
      "9/9 [==============================] - 1s 15ms/step - loss: 2.6201\n",
      "Epoch 2/200\n",
      "9/9 [==============================] - 0s 9ms/step - loss: 0.9337\n",
      "Epoch 3/200\n",
      "9/9 [==============================] - 0s 7ms/step - loss: 0.5778\n",
      "Epoch 4/200\n",
      "9/9 [==============================] - 0s 7ms/step - loss: 0.3716\n",
      "Epoch 5/200\n",
      "9/9 [==============================] - 0s 5ms/step - loss: 0.2682\n",
      "Epoch 6/200\n",
      "9/9 [==============================] - 0s 5ms/step - loss: 0.1930\n",
      "Epoch 7/200\n",
      "9/9 [==============================] - 0s 6ms/step - loss: 0.1520\n",
      "Epoch 8/200\n",
      "9/9 [==============================] - 0s 5ms/step - loss: 0.1263\n",
      "Epoch 9/200\n",
      "9/9 [==============================] - 0s 7ms/step - loss: 0.1090\n",
      "Epoch 10/200\n",
      "9/9 [==============================] - 0s 5ms/step - loss: 0.0953\n",
      "Epoch 11/200\n",
      "9/9 [==============================] - 0s 5ms/step - loss: 0.0858\n",
      "Epoch 12/200\n",
      "9/9 [==============================] - 0s 5ms/step - loss: 0.0760\n",
      "Epoch 13/200\n",
      "9/9 [==============================] - 0s 5ms/step - loss: 0.0710\n",
      "Epoch 14/200\n",
      "9/9 [==============================] - 0s 6ms/step - loss: 0.0712\n",
      "Epoch 15/200\n",
      "9/9 [==============================] - 0s 6ms/step - loss: 0.0628\n",
      "Epoch 16/200\n",
      "9/9 [==============================] - 0s 5ms/step - loss: 0.0618\n",
      "Epoch 17/200\n",
      "9/9 [==============================] - 0s 5ms/step - loss: 0.0563\n",
      "Epoch 18/200\n",
      "9/9 [==============================] - 0s 5ms/step - loss: 0.0525\n",
      "Epoch 19/200\n",
      "9/9 [==============================] - 0s 5ms/step - loss: 0.0522\n",
      "Epoch 20/200\n",
      "9/9 [==============================] - 0s 6ms/step - loss: 0.0502\n",
      "Epoch 21/200\n",
      "9/9 [==============================] - 0s 5ms/step - loss: 0.0512\n",
      "Epoch 22/200\n",
      "9/9 [==============================] - 0s 5ms/step - loss: 0.0483\n",
      "Epoch 23/200\n",
      "9/9 [==============================] - 0s 6ms/step - loss: 0.0462\n",
      "Epoch 24/200\n",
      "9/9 [==============================] - 0s 5ms/step - loss: 0.0427\n",
      "Epoch 25/200\n",
      "9/9 [==============================] - 0s 5ms/step - loss: 0.0424\n",
      "Epoch 26/200\n",
      "9/9 [==============================] - 0s 5ms/step - loss: 0.0417\n",
      "Epoch 27/200\n",
      "9/9 [==============================] - 0s 6ms/step - loss: 0.0416\n",
      "Epoch 28/200\n",
      "9/9 [==============================] - 0s 5ms/step - loss: 0.0398\n",
      "Epoch 29/200\n",
      "9/9 [==============================] - 0s 5ms/step - loss: 0.0446\n",
      "Epoch 30/200\n",
      "9/9 [==============================] - 0s 5ms/step - loss: 0.0490\n",
      "Epoch 31/200\n",
      "9/9 [==============================] - 0s 5ms/step - loss: 0.0433\n",
      "Epoch 32/200\n",
      "9/9 [==============================] - 0s 5ms/step - loss: 0.0491\n",
      "Epoch 33/200\n",
      "9/9 [==============================] - 0s 6ms/step - loss: 0.0462\n",
      "Epoch 34/200\n",
      "9/9 [==============================] - 0s 5ms/step - loss: 0.0429\n",
      "Epoch 35/200\n",
      "9/9 [==============================] - 0s 5ms/step - loss: 0.0372\n",
      "Epoch 36/200\n",
      "9/9 [==============================] - 0s 5ms/step - loss: 0.0383\n",
      "Epoch 37/200\n",
      "9/9 [==============================] - 0s 5ms/step - loss: 0.0499\n",
      "Epoch 38/200\n",
      "9/9 [==============================] - 0s 5ms/step - loss: 0.0414\n",
      "Epoch 39/200\n",
      "9/9 [==============================] - 0s 5ms/step - loss: 0.0400\n",
      "Epoch 40/200\n",
      "9/9 [==============================] - 0s 5ms/step - loss: 0.0416\n",
      "Epoch 41/200\n",
      "9/9 [==============================] - 0s 5ms/step - loss: 0.0493\n",
      "Epoch 42/200\n",
      "9/9 [==============================] - 0s 5ms/step - loss: 0.0451\n",
      "Epoch 43/200\n",
      "9/9 [==============================] - 0s 5ms/step - loss: 0.0360\n",
      "Epoch 44/200\n",
      "9/9 [==============================] - 0s 5ms/step - loss: 0.0336\n",
      "Epoch 45/200\n",
      "9/9 [==============================] - 0s 5ms/step - loss: 0.0344\n",
      "Epoch 46/200\n",
      "9/9 [==============================] - 0s 5ms/step - loss: 0.0343\n",
      "Epoch 47/200\n",
      "9/9 [==============================] - 0s 5ms/step - loss: 0.0351\n",
      "Epoch 48/200\n",
      "9/9 [==============================] - 0s 5ms/step - loss: 0.0365\n",
      "Epoch 49/200\n",
      "9/9 [==============================] - 0s 6ms/step - loss: 0.0370\n",
      "Epoch 50/200\n",
      "9/9 [==============================] - 0s 5ms/step - loss: 0.0384\n",
      "Epoch 51/200\n",
      "9/9 [==============================] - 0s 6ms/step - loss: 0.0386\n",
      "Epoch 52/200\n",
      "9/9 [==============================] - 0s 5ms/step - loss: 0.0385\n",
      "Epoch 53/200\n",
      "9/9 [==============================] - 0s 5ms/step - loss: 0.0419\n",
      "Epoch 54/200\n",
      "9/9 [==============================] - 0s 5ms/step - loss: 0.0394\n",
      "Epoch 55/200\n",
      "9/9 [==============================] - 0s 5ms/step - loss: 0.0368\n",
      "Epoch 56/200\n",
      "9/9 [==============================] - 0s 5ms/step - loss: 0.0387\n",
      "Epoch 57/200\n",
      "9/9 [==============================] - 0s 5ms/step - loss: 0.0348\n",
      "Epoch 58/200\n",
      "9/9 [==============================] - 0s 5ms/step - loss: 0.0335\n",
      "Epoch 59/200\n",
      "9/9 [==============================] - 0s 5ms/step - loss: 0.0325\n",
      "Epoch 60/200\n",
      "9/9 [==============================] - 0s 5ms/step - loss: 0.0320\n",
      "Epoch 61/200\n",
      "9/9 [==============================] - 0s 5ms/step - loss: 0.0348\n",
      "Epoch 62/200\n",
      "9/9 [==============================] - 0s 5ms/step - loss: 0.0319\n",
      "Epoch 63/200\n",
      "9/9 [==============================] - 0s 5ms/step - loss: 0.0333\n",
      "Epoch 64/200\n",
      "9/9 [==============================] - 0s 5ms/step - loss: 0.0376\n",
      "Epoch 65/200\n",
      "9/9 [==============================] - 0s 5ms/step - loss: 0.0360\n",
      "Epoch 66/200\n",
      "9/9 [==============================] - 0s 5ms/step - loss: 0.0359\n",
      "Epoch 67/200\n",
      "9/9 [==============================] - 0s 5ms/step - loss: 0.0360\n",
      "Epoch 68/200\n",
      "9/9 [==============================] - 0s 5ms/step - loss: 0.0411\n",
      "Epoch 69/200\n",
      "9/9 [==============================] - 0s 5ms/step - loss: 0.0389\n",
      "Epoch 70/200\n",
      "9/9 [==============================] - 0s 5ms/step - loss: 0.0384\n",
      "Epoch 71/200\n",
      "9/9 [==============================] - 0s 5ms/step - loss: 0.0323\n",
      "Epoch 72/200\n",
      "9/9 [==============================] - 0s 5ms/step - loss: 0.0326\n",
      "Epoch 73/200\n",
      "9/9 [==============================] - 0s 5ms/step - loss: 0.0385\n",
      "Epoch 74/200\n",
      "9/9 [==============================] - 0s 5ms/step - loss: 0.0303\n",
      "Epoch 75/200\n",
      "9/9 [==============================] - 0s 5ms/step - loss: 0.0338\n",
      "Epoch 76/200\n",
      "9/9 [==============================] - 0s 8ms/step - loss: 0.0452\n",
      "Epoch 77/200\n",
      "9/9 [==============================] - 0s 5ms/step - loss: 0.0320\n",
      "Epoch 78/200\n",
      "9/9 [==============================] - 0s 5ms/step - loss: 0.0317\n",
      "Epoch 79/200\n",
      "9/9 [==============================] - 0s 5ms/step - loss: 0.0303\n",
      "Epoch 80/200\n",
      "9/9 [==============================] - 0s 5ms/step - loss: 0.0330\n",
      "Epoch 81/200\n",
      "9/9 [==============================] - 0s 5ms/step - loss: 0.0331\n",
      "Epoch 82/200\n",
      "9/9 [==============================] - 0s 5ms/step - loss: 0.0320\n",
      "Epoch 83/200\n",
      "9/9 [==============================] - 0s 5ms/step - loss: 0.0326\n",
      "Epoch 84/200\n",
      "9/9 [==============================] - 0s 5ms/step - loss: 0.0337\n",
      "Epoch 85/200\n",
      "9/9 [==============================] - 0s 5ms/step - loss: 0.0377\n",
      "Epoch 86/200\n",
      "9/9 [==============================] - 0s 5ms/step - loss: 0.0452\n",
      "Epoch 87/200\n",
      "9/9 [==============================] - 0s 5ms/step - loss: 0.0375\n",
      "Epoch 88/200\n",
      "9/9 [==============================] - 0s 5ms/step - loss: 0.0369\n",
      "Epoch 89/200\n",
      "9/9 [==============================] - 0s 5ms/step - loss: 0.0339\n",
      "Epoch 90/200\n",
      "9/9 [==============================] - 0s 5ms/step - loss: 0.0362\n",
      "Epoch 91/200\n",
      "9/9 [==============================] - 0s 5ms/step - loss: 0.0367\n",
      "Epoch 92/200\n",
      "9/9 [==============================] - 0s 5ms/step - loss: 0.0382\n",
      "Epoch 93/200\n",
      "9/9 [==============================] - 0s 5ms/step - loss: 0.0373\n",
      "Epoch 94/200\n",
      "9/9 [==============================] - 0s 5ms/step - loss: 0.0317\n",
      "Epoch 95/200\n",
      "9/9 [==============================] - 0s 6ms/step - loss: 0.0390\n",
      "Epoch 96/200\n",
      "9/9 [==============================] - 0s 6ms/step - loss: 0.0398\n",
      "Epoch 97/200\n",
      "9/9 [==============================] - 0s 7ms/step - loss: 0.0327\n",
      "Epoch 98/200\n",
      "9/9 [==============================] - 0s 6ms/step - loss: 0.0356\n",
      "Epoch 99/200\n",
      "9/9 [==============================] - 0s 5ms/step - loss: 0.0420\n",
      "Epoch 100/200\n",
      "9/9 [==============================] - 0s 5ms/step - loss: 0.0344\n",
      "Epoch 101/200\n",
      "9/9 [==============================] - 0s 5ms/step - loss: 0.0368\n",
      "Epoch 102/200\n",
      "9/9 [==============================] - 0s 6ms/step - loss: 0.0329\n",
      "Epoch 103/200\n",
      "9/9 [==============================] - 0s 5ms/step - loss: 0.0333\n",
      "Epoch 104/200\n",
      "9/9 [==============================] - 0s 5ms/step - loss: 0.0342\n",
      "Epoch 105/200\n",
      "9/9 [==============================] - 0s 5ms/step - loss: 0.0314\n",
      "Epoch 106/200\n",
      "9/9 [==============================] - 0s 5ms/step - loss: 0.0317\n",
      "Epoch 107/200\n",
      "9/9 [==============================] - 0s 5ms/step - loss: 0.0323\n",
      "Epoch 108/200\n",
      "9/9 [==============================] - 0s 5ms/step - loss: 0.0374\n",
      "Epoch 109/200\n",
      "9/9 [==============================] - 0s 5ms/step - loss: 0.0316\n",
      "Epoch 110/200\n",
      "9/9 [==============================] - 0s 5ms/step - loss: 0.0321\n",
      "Epoch 111/200\n",
      "9/9 [==============================] - 0s 5ms/step - loss: 0.0304\n",
      "Epoch 112/200\n",
      "9/9 [==============================] - 0s 5ms/step - loss: 0.0402\n",
      "Epoch 113/200\n",
      "9/9 [==============================] - 0s 6ms/step - loss: 0.0319\n",
      "Epoch 114/200\n",
      "9/9 [==============================] - 0s 6ms/step - loss: 0.0292\n",
      "Epoch 115/200\n",
      "9/9 [==============================] - 0s 5ms/step - loss: 0.0269\n",
      "Epoch 116/200\n",
      "9/9 [==============================] - 0s 5ms/step - loss: 0.0279\n",
      "Epoch 117/200\n",
      "9/9 [==============================] - 0s 5ms/step - loss: 0.0282\n",
      "Epoch 118/200\n",
      "9/9 [==============================] - 0s 5ms/step - loss: 0.0301\n",
      "Epoch 119/200\n",
      "9/9 [==============================] - 0s 6ms/step - loss: 0.0308\n",
      "Epoch 120/200\n",
      "9/9 [==============================] - 0s 6ms/step - loss: 0.0333\n",
      "Epoch 121/200\n",
      "9/9 [==============================] - 0s 6ms/step - loss: 0.0336\n",
      "Epoch 122/200\n",
      "9/9 [==============================] - 0s 5ms/step - loss: 0.0285\n",
      "Epoch 123/200\n",
      "9/9 [==============================] - 0s 5ms/step - loss: 0.0278\n",
      "Epoch 124/200\n",
      "9/9 [==============================] - 0s 5ms/step - loss: 0.0269\n",
      "Epoch 125/200\n",
      "9/9 [==============================] - 0s 5ms/step - loss: 0.0276\n",
      "Epoch 126/200\n",
      "9/9 [==============================] - 0s 5ms/step - loss: 0.0269\n",
      "Epoch 127/200\n",
      "9/9 [==============================] - 0s 5ms/step - loss: 0.0277\n",
      "Epoch 128/200\n",
      "9/9 [==============================] - 0s 5ms/step - loss: 0.0370\n",
      "Epoch 129/200\n",
      "9/9 [==============================] - 0s 5ms/step - loss: 0.0418\n",
      "Epoch 130/200\n",
      "9/9 [==============================] - 0s 5ms/step - loss: 0.0340\n",
      "Epoch 131/200\n",
      "9/9 [==============================] - 0s 5ms/step - loss: 0.0379\n",
      "Epoch 132/200\n",
      "9/9 [==============================] - 0s 5ms/step - loss: 0.0375\n",
      "Epoch 133/200\n",
      "9/9 [==============================] - 0s 5ms/step - loss: 0.0299\n",
      "Epoch 134/200\n",
      "9/9 [==============================] - 0s 5ms/step - loss: 0.0303\n",
      "Epoch 135/200\n",
      "9/9 [==============================] - 0s 5ms/step - loss: 0.0276\n",
      "Epoch 136/200\n",
      "9/9 [==============================] - 0s 5ms/step - loss: 0.0283\n",
      "Epoch 137/200\n",
      "9/9 [==============================] - 0s 5ms/step - loss: 0.0277\n",
      "Epoch 138/200\n",
      "9/9 [==============================] - 0s 5ms/step - loss: 0.0390\n",
      "Epoch 139/200\n",
      "9/9 [==============================] - 0s 5ms/step - loss: 0.0472\n",
      "Epoch 140/200\n",
      "9/9 [==============================] - 0s 5ms/step - loss: 0.0348\n",
      "Epoch 141/200\n",
      "9/9 [==============================] - 0s 5ms/step - loss: 0.0304\n",
      "Epoch 142/200\n",
      "9/9 [==============================] - 0s 5ms/step - loss: 0.0290\n",
      "Epoch 143/200\n",
      "9/9 [==============================] - 0s 5ms/step - loss: 0.0269\n",
      "Epoch 144/200\n",
      "9/9 [==============================] - 0s 5ms/step - loss: 0.0287\n",
      "Epoch 145/200\n",
      "9/9 [==============================] - 0s 5ms/step - loss: 0.0400\n",
      "Epoch 146/200\n",
      "9/9 [==============================] - 0s 5ms/step - loss: 0.0315\n",
      "Epoch 147/200\n",
      "9/9 [==============================] - 0s 5ms/step - loss: 0.0304\n",
      "Epoch 148/200\n",
      "9/9 [==============================] - 0s 5ms/step - loss: 0.0293\n",
      "Epoch 149/200\n",
      "9/9 [==============================] - 0s 5ms/step - loss: 0.0320\n",
      "Epoch 150/200\n",
      "9/9 [==============================] - 0s 5ms/step - loss: 0.0278\n",
      "Epoch 151/200\n",
      "9/9 [==============================] - 0s 5ms/step - loss: 0.0268\n",
      "Epoch 152/200\n",
      "9/9 [==============================] - 0s 5ms/step - loss: 0.0271\n",
      "Epoch 153/200\n",
      "9/9 [==============================] - 0s 6ms/step - loss: 0.0298\n",
      "Epoch 154/200\n",
      "9/9 [==============================] - 0s 5ms/step - loss: 0.0376\n",
      "Epoch 155/200\n",
      "9/9 [==============================] - 0s 7ms/step - loss: 0.0409\n",
      "Epoch 156/200\n",
      "9/9 [==============================] - 0s 5ms/step - loss: 0.0322\n",
      "Epoch 157/200\n",
      "9/9 [==============================] - 0s 5ms/step - loss: 0.0277\n",
      "Epoch 158/200\n",
      "9/9 [==============================] - 0s 5ms/step - loss: 0.0319\n",
      "Epoch 159/200\n",
      "9/9 [==============================] - 0s 5ms/step - loss: 0.0370\n",
      "Epoch 160/200\n",
      "9/9 [==============================] - 0s 5ms/step - loss: 0.0394\n",
      "Epoch 161/200\n",
      "9/9 [==============================] - 0s 5ms/step - loss: 0.0322\n",
      "Epoch 162/200\n",
      "9/9 [==============================] - 0s 5ms/step - loss: 0.0302\n",
      "Epoch 163/200\n",
      "9/9 [==============================] - 0s 5ms/step - loss: 0.0277\n",
      "Epoch 164/200\n",
      "9/9 [==============================] - 0s 5ms/step - loss: 0.0262\n",
      "Epoch 165/200\n",
      "9/9 [==============================] - 0s 5ms/step - loss: 0.0255\n",
      "Epoch 166/200\n",
      "9/9 [==============================] - 0s 5ms/step - loss: 0.0268\n",
      "Epoch 167/200\n",
      "9/9 [==============================] - 0s 5ms/step - loss: 0.0364\n",
      "Epoch 168/200\n",
      "9/9 [==============================] - 0s 5ms/step - loss: 0.0337\n",
      "Epoch 169/200\n",
      "9/9 [==============================] - 0s 5ms/step - loss: 0.0354\n",
      "Epoch 170/200\n",
      "9/9 [==============================] - 0s 5ms/step - loss: 0.0318\n",
      "Epoch 171/200\n",
      "9/9 [==============================] - 0s 5ms/step - loss: 0.0353\n",
      "Epoch 172/200\n",
      "9/9 [==============================] - 0s 5ms/step - loss: 0.0290\n",
      "Epoch 173/200\n",
      "9/9 [==============================] - 0s 5ms/step - loss: 0.0296\n",
      "Epoch 174/200\n",
      "9/9 [==============================] - 0s 5ms/step - loss: 0.0274\n",
      "Epoch 175/200\n",
      "9/9 [==============================] - 0s 5ms/step - loss: 0.0299\n",
      "Epoch 176/200\n",
      "9/9 [==============================] - 0s 5ms/step - loss: 0.0303\n",
      "Epoch 177/200\n",
      "9/9 [==============================] - 0s 5ms/step - loss: 0.0297\n",
      "Epoch 178/200\n",
      "9/9 [==============================] - 0s 5ms/step - loss: 0.0299\n",
      "Epoch 179/200\n",
      "9/9 [==============================] - 0s 5ms/step - loss: 0.0280\n",
      "Epoch 180/200\n",
      "9/9 [==============================] - 0s 5ms/step - loss: 0.0264\n",
      "Epoch 181/200\n",
      "9/9 [==============================] - 0s 5ms/step - loss: 0.0259\n",
      "Epoch 182/200\n",
      "9/9 [==============================] - 0s 5ms/step - loss: 0.0322\n",
      "Epoch 183/200\n",
      "9/9 [==============================] - 0s 5ms/step - loss: 0.0311\n",
      "Epoch 184/200\n",
      "9/9 [==============================] - 0s 5ms/step - loss: 0.0396\n",
      "Epoch 185/200\n",
      "9/9 [==============================] - 0s 5ms/step - loss: 0.0301\n",
      "Epoch 186/200\n",
      "9/9 [==============================] - 0s 5ms/step - loss: 0.0296\n",
      "Epoch 187/200\n",
      "9/9 [==============================] - 0s 5ms/step - loss: 0.0246\n",
      "Epoch 188/200\n",
      "9/9 [==============================] - 0s 5ms/step - loss: 0.0266\n",
      "Epoch 189/200\n",
      "9/9 [==============================] - 0s 5ms/step - loss: 0.0272\n",
      "Epoch 190/200\n",
      "9/9 [==============================] - 0s 5ms/step - loss: 0.0258\n",
      "Epoch 191/200\n",
      "9/9 [==============================] - 0s 5ms/step - loss: 0.0287\n",
      "Epoch 192/200\n",
      "9/9 [==============================] - 0s 5ms/step - loss: 0.0277\n",
      "Epoch 193/200\n",
      "9/9 [==============================] - 0s 5ms/step - loss: 0.0303\n",
      "Epoch 194/200\n",
      "9/9 [==============================] - 0s 6ms/step - loss: 0.0270\n",
      "Epoch 195/200\n",
      "9/9 [==============================] - 0s 6ms/step - loss: 0.0279\n",
      "Epoch 196/200\n",
      "9/9 [==============================] - 0s 6ms/step - loss: 0.0294\n",
      "Epoch 197/200\n",
      "9/9 [==============================] - 0s 5ms/step - loss: 0.0311\n",
      "Epoch 198/200\n",
      "9/9 [==============================] - 0s 5ms/step - loss: 0.0343\n",
      "Epoch 199/200\n",
      "9/9 [==============================] - 0s 5ms/step - loss: 0.0307\n",
      "Epoch 200/200\n",
      "9/9 [==============================] - 0s 5ms/step - loss: 0.0296\n"
     ]
    }
   ],
   "source": [
    "history = model.fit(\n",
    "        X, y,\n",
    "        batch_size=128,\n",
    "        epochs=200\n",
    ")"
   ]
  },
  {
   "cell_type": "code",
   "execution_count": 20,
   "id": "6cfec83c",
   "metadata": {},
   "outputs": [
    {
     "data": {
      "image/png": "[encoded data removed]",
      "text/plain": [
       "<Figure size 640x480 with 1 Axes>"
      ]
     },
     "metadata": {},
     "output_type": "display_data"
    }
   ],
   "source": [
    "import pandas as pd\n",
    "\n",
    "history_df = pd.DataFrame(history.history)\n",
    "# Start the plot at epoch 5. You can change this to get a different view.\n",
    "history_df.loc[5:, ['loss']].plot();"
   ]
  },
  {
   "cell_type": "markdown",
   "id": "e4929d83",
   "metadata": {},
   "source": [
    "---"
   ]
  },
  {
   "cell_type": "markdown",
   "id": "8cf3b76b",
   "metadata": {},
   "source": [
    "# Dropout and Batch Normalisation."
   ]
  },
  {
   "cell_type": "code",
   "execution_count": 1,
   "id": "c27fd3ba",
   "metadata": {
    "ExecuteTime": {
     "end_time": "2023-01-23T15:18:32.114383Z",
     "start_time": "2023-01-23T15:18:31.754862Z"
    }
   },
   "outputs": [
    {
     "name": "stderr",
     "output_type": "stream",
     "text": [
      "/var/folders/hf/0mp7k_vd30z8kr8nkwwh037m0000gn/T/ipykernel_54212/3804351566.py:2: MatplotlibDeprecationWarning: The seaborn styles shipped by Matplotlib are deprecated since 3.6, as they no longer correspond to the styles shipped by seaborn. However, they will remain available as 'seaborn-v0_8-<style>'. Alternatively, directly use the seaborn API instead.\n",
      "  plt.style.use('seaborn-whitegrid')\n"
     ]
    }
   ],
   "source": [
    "import matplotlib.pyplot as plt\n",
    "plt.style.use('seaborn-whitegrid')\n",
    "# Set Matplotlib defaults\n",
    "plt.rc('figure', autolayout=True)\n",
    "plt.rc('axes', labelweight='bold', labelsize='large',\n",
    "       titleweight='bold', titlesize=18, titlepad=10)\n",
    "plt.rc('animation', html='html5')"
   ]
  },
  {
   "cell_type": "code",
   "execution_count": 2,
   "id": "fae80a00",
   "metadata": {
    "ExecuteTime": {
     "end_time": "2023-01-23T15:18:46.493091Z",
     "start_time": "2023-01-23T15:18:42.263120Z"
    }
   },
   "outputs": [],
   "source": [
    "import pandas as pd\n",
    "from sklearn.preprocessing import StandardScaler, OneHotEncoder\n",
    "from sklearn.compose import make_column_transformer\n",
    "from sklearn.model_selection import GroupShuffleSplit\n",
    "\n",
    "from tensorflow import keras\n",
    "from tensorflow.keras import layers\n",
    "from tensorflow.keras import callbacks"
   ]
  },
  {
   "cell_type": "code",
   "execution_count": 3,
   "id": "e4b6ed23",
   "metadata": {
    "ExecuteTime": {
     "end_time": "2023-01-23T15:18:58.965921Z",
     "start_time": "2023-01-23T15:18:58.827999Z"
    }
   },
   "outputs": [],
   "source": [
    "spotify = pd.read_csv('../dl-course-data/spotify.csv')"
   ]
  },
  {
   "cell_type": "code",
   "execution_count": 4,
   "id": "b90b078a",
   "metadata": {
    "ExecuteTime": {
     "end_time": "2023-01-23T15:19:03.719025Z",
     "start_time": "2023-01-23T15:19:03.708967Z"
    }
   },
   "outputs": [
    {
     "data": {
      "text/plain": [
       "(32833, 23)"
      ]
     },
     "execution_count": 4,
     "metadata": {},
     "output_type": "execute_result"
    }
   ],
   "source": [
    "spotify.shape"
   ]
  },
  {
   "cell_type": "code",
   "execution_count": 5,
   "id": "10129a24",
   "metadata": {
    "ExecuteTime": {
     "end_time": "2023-01-23T15:19:23.070494Z",
     "start_time": "2023-01-23T15:19:23.001263Z"
    }
   },
   "outputs": [],
   "source": [
    "X = spotify.copy().dropna()\n",
    "y = X.pop('track_popularity')\n",
    "artists = X['track_artist']"
   ]
  },
  {
   "cell_type": "code",
   "execution_count": 9,
   "id": "5cdcdd70",
   "metadata": {
    "ExecuteTime": {
     "end_time": "2023-01-23T15:19:44.860598Z",
     "start_time": "2023-01-23T15:19:44.843895Z"
    }
   },
   "outputs": [],
   "source": [
    "features_num = ['danceability', 'energy', 'key', 'loudness', 'mode',\n",
    "                'speechiness', 'acousticness', 'instrumentalness',\n",
    "                'liveness', 'valence', 'tempo', 'duration_ms']\n",
    "features_cat = ['playlist_genre']"
   ]
  },
  {
   "cell_type": "code",
   "execution_count": 10,
   "id": "72dc98d8",
   "metadata": {
    "ExecuteTime": {
     "end_time": "2023-01-23T15:19:48.989807Z",
     "start_time": "2023-01-23T15:19:48.984366Z"
    }
   },
   "outputs": [],
   "source": [
    "preprocessor = make_column_transformer(\n",
    "    (StandardScaler(), features_num),\n",
    "    (OneHotEncoder(), features_cat),\n",
    ")\n"
   ]
  },
  {
   "cell_type": "code",
   "execution_count": 11,
   "id": "fc21ffb8",
   "metadata": {
    "ExecuteTime": {
     "end_time": "2023-01-23T15:19:55.289491Z",
     "start_time": "2023-01-23T15:19:55.281544Z"
    }
   },
   "outputs": [],
   "source": [
    "def group_split(X, y, group, train_size=0.75):\n",
    "    splitter = GroupShuffleSplit(train_size=train_size)\n",
    "    train, test = next(splitter.split(X, y, groups=group))\n",
    "    return (X.iloc[train], X.iloc[test], y.iloc[train], y.iloc[test])"
   ]
  },
  {
   "cell_type": "code",
   "execution_count": 12,
   "id": "18fded08",
   "metadata": {
    "ExecuteTime": {
     "end_time": "2023-01-23T15:20:04.723834Z",
     "start_time": "2023-01-23T15:20:04.649839Z"
    }
   },
   "outputs": [],
   "source": [
    "X_train, X_valid, y_train, y_valid = group_split(X, y, artists)\n",
    "\n",
    "X_train = preprocessor.fit_transform(X_train)\n",
    "X_valid = preprocessor.transform(X_valid)\n",
    "y_train = y_train / 100\n",
    "y_valid = y_valid / 100"
   ]
  },
  {
   "cell_type": "code",
   "execution_count": 13,
   "id": "5fcdba2e",
   "metadata": {
    "ExecuteTime": {
     "end_time": "2023-01-23T15:20:24.843503Z",
     "start_time": "2023-01-23T15:20:24.835278Z"
    }
   },
   "outputs": [
    {
     "name": "stdout",
     "output_type": "stream",
     "text": [
      "Input shape: [18]\n"
     ]
    }
   ],
   "source": [
    "input_shape = [X_train.shape[1]]\n",
    "print(\"Input shape: {}\".format(input_shape))"
   ]
  },
  {
   "cell_type": "code",
   "execution_count": 14,
   "id": "7063d832",
   "metadata": {
    "ExecuteTime": {
     "end_time": "2023-01-23T15:20:43.362017Z",
     "start_time": "2023-01-23T15:20:43.031041Z"
    }
   },
   "outputs": [
    {
     "name": "stderr",
     "output_type": "stream",
     "text": [
      "2023-01-23 15:20:43.075248: I tensorflow/core/common_runtime/pluggable_device/pluggable_device_factory.cc:305] Could not identify NUMA node of platform GPU ID 0, defaulting to 0. Your kernel may not have been built with NUMA support.\n",
      "2023-01-23 15:20:43.076267: I tensorflow/core/common_runtime/pluggable_device/pluggable_device_factory.cc:271] Created TensorFlow device (/job:localhost/replica:0/task:0/device:GPU:0 with 0 MB memory) -> physical PluggableDevice (device: 0, name: METAL, pci bus id: <undefined>)\n"
     ]
    },
    {
     "name": "stdout",
     "output_type": "stream",
     "text": [
      "Metal device set to: Apple M1\n"
     ]
    }
   ],
   "source": [
    "# YOUR CODE HERE: Add two 30% dropout layers, one after 128 and one after 64\n",
    "model = keras.Sequential([\n",
    "    layers.Dense(128, activation='relu', input_shape=input_shape),\n",
    "    layers.Dropout(rate=0.3),\n",
    "    layers.Dense(64, activation='relu'),\n",
    "    layers.Dropout(rate=0.3),\n",
    "    layers.Dense(1)\n",
    "])"
   ]
  },
  {
   "cell_type": "code",
   "execution_count": 15,
   "id": "8c1e236d",
   "metadata": {
    "ExecuteTime": {
     "end_time": "2023-01-23T15:21:16.168840Z",
     "start_time": "2023-01-23T15:21:01.076816Z"
    }
   },
   "outputs": [
    {
     "name": "stderr",
     "output_type": "stream",
     "text": [
      "2023-01-23 15:21:01.194330: W tensorflow/core/platform/profile_utils/cpu_utils.cc:128] Failed to get CPU frequency: 0 Hz\n",
      "2023-01-23 15:21:01.413787: I tensorflow/core/grappler/optimizers/custom_graph_optimizer_registry.cc:113] Plugin optimizer for device_type GPU is enabled.\n",
      "2023-01-23 15:21:02.615479: I tensorflow/core/grappler/optimizers/custom_graph_optimizer_registry.cc:113] Plugin optimizer for device_type GPU is enabled.\n"
     ]
    },
    {
     "name": "stdout",
     "output_type": "stream",
     "text": [
      "Minimum Validation Loss: 0.1886\n"
     ]
    },
    {
     "data": {
      "image/png": "[encoded data removed]",
      "text/plain": [
       "<Figure size 640x480 with 1 Axes>"
      ]
     },
     "metadata": {},
     "output_type": "display_data"
    }
   ],
   "source": [
    "model.compile(\n",
    "    optimizer='adam',\n",
    "    loss='mae',\n",
    ")\n",
    "history = model.fit(\n",
    "    X_train, y_train,\n",
    "    validation_data=(X_valid, y_valid),\n",
    "    batch_size=512,\n",
    "    epochs=50,\n",
    "    verbose=0,\n",
    ")\n",
    "history_df = pd.DataFrame(history.history)\n",
    "history_df.loc[:, ['loss', 'val_loss']].plot()\n",
    "print(\"Minimum Validation Loss: {:0.4f}\".format(history_df['val_loss'].min()))"
   ]
  },
  {
   "cell_type": "markdown",
   "id": "7441d0a7",
   "metadata": {},
   "source": [
    "## Batch Normalisation"
   ]
  },
  {
   "cell_type": "code",
   "execution_count": 16,
   "id": "47b1b261",
   "metadata": {
    "ExecuteTime": {
     "end_time": "2023-01-23T15:30:34.114627Z",
     "start_time": "2023-01-23T15:30:34.047243Z"
    }
   },
   "outputs": [],
   "source": [
    "import pandas as pd\n",
    "\n",
    "concrete = pd.read_csv('../dl-course-data/concrete.csv')\n",
    "df = concrete.copy()\n",
    "\n",
    "df_train = df.sample(frac=0.7, random_state=0)\n",
    "df_valid = df.drop(df_train.index)\n",
    "\n",
    "X_train = df_train.drop('CompressiveStrength', axis=1)\n",
    "X_valid = df_valid.drop('CompressiveStrength', axis=1)\n",
    "y_train = df_train['CompressiveStrength']\n",
    "y_valid = df_valid['CompressiveStrength']\n",
    "\n",
    "input_shape = [X_train.shape[1]]"
   ]
  },
  {
   "cell_type": "code",
   "execution_count": 17,
   "id": "fafacd7b",
   "metadata": {
    "ExecuteTime": {
     "end_time": "2023-01-23T15:31:02.855451Z",
     "start_time": "2023-01-23T15:30:54.682353Z"
    }
   },
   "outputs": [
    {
     "name": "stderr",
     "output_type": "stream",
     "text": [
      "2023-01-23 15:30:55.086972: I tensorflow/core/grappler/optimizers/custom_graph_optimizer_registry.cc:113] Plugin optimizer for device_type GPU is enabled.\n",
      "2023-01-23 15:30:55.882972: I tensorflow/core/grappler/optimizers/custom_graph_optimizer_registry.cc:113] Plugin optimizer for device_type GPU is enabled.\n"
     ]
    },
    {
     "name": "stdout",
     "output_type": "stream",
     "text": [
      "Minimum Validation Loss: nan\n"
     ]
    },
    {
     "data": {
      "image/png": "[encoded data removed]",
      "text/plain": [
       "<Figure size 640x480 with 1 Axes>"
      ]
     },
     "metadata": {},
     "output_type": "display_data"
    }
   ],
   "source": [
    "model = keras.Sequential([\n",
    "    layers.Dense(512, activation='relu', input_shape=input_shape),\n",
    "    layers.Dense(512, activation='relu'),    \n",
    "    layers.Dense(512, activation='relu'),\n",
    "    layers.Dense(1),\n",
    "])\n",
    "model.compile(\n",
    "    optimizer='sgd', # SGD is more sensitive to differences of scale\n",
    "    loss='mae',\n",
    "    metrics=['mae'],\n",
    ")\n",
    "history = model.fit(\n",
    "    X_train, y_train,\n",
    "    validation_data=(X_valid, y_valid),\n",
    "    batch_size=64,\n",
    "    epochs=100,\n",
    "    verbose=0,\n",
    ")\n",
    "\n",
    "history_df = pd.DataFrame(history.history)\n",
    "history_df.loc[0:, ['loss', 'val_loss']].plot()\n",
    "print((\"Minimum Validation Loss: {:0.4f}\").format(history_df['val_loss'].min()))"
   ]
  },
  {
   "cell_type": "code",
   "execution_count": 18,
   "id": "261dd025",
   "metadata": {
    "ExecuteTime": {
     "end_time": "2023-01-23T15:32:28.601592Z",
     "start_time": "2023-01-23T15:32:11.938542Z"
    }
   },
   "outputs": [
    {
     "name": "stderr",
     "output_type": "stream",
     "text": [
      "2023-01-23 15:32:12.389607: I tensorflow/core/grappler/optimizers/custom_graph_optimizer_registry.cc:113] Plugin optimizer for device_type GPU is enabled.\n",
      "2023-01-23 15:32:13.555832: I tensorflow/core/grappler/optimizers/custom_graph_optimizer_registry.cc:113] Plugin optimizer for device_type GPU is enabled.\n"
     ]
    },
    {
     "name": "stdout",
     "output_type": "stream",
     "text": [
      "Minimum Validation Loss: 3.8257\n"
     ]
    },
    {
     "data": {
      "image/png": "[encoded data removed]",
      "text/plain": [
       "<Figure size 640x480 with 1 Axes>"
      ]
     },
     "metadata": {},
     "output_type": "display_data"
    }
   ],
   "source": [
    "model = keras.Sequential([\n",
    "    layers.BatchNormalization(input_shape=input_shape),\n",
    "    layers.Dense(512, activation='relu'),\n",
    "    layers.BatchNormalization(),\n",
    "    layers.Dense(512, activation='relu'),\n",
    "    layers.BatchNormalization(),\n",
    "    layers.Dense(512, activation='relu'),\n",
    "    layers.BatchNormalization(),\n",
    "    layers.Dense(1),\n",
    "])\n",
    "\n",
    "model.compile(\n",
    "    optimizer='sgd',\n",
    "    loss='mae',\n",
    "    metrics=['mae'],\n",
    ")\n",
    "EPOCHS = 100\n",
    "history = model.fit(\n",
    "    X_train, y_train,\n",
    "    validation_data=(X_valid, y_valid),\n",
    "    batch_size=64,\n",
    "    epochs=EPOCHS,\n",
    "    verbose=0,\n",
    ")\n",
    "\n",
    "history_df = pd.DataFrame(history.history)\n",
    "history_df.loc[0:, ['loss', 'val_loss']].plot()\n",
    "print((\"Minimum Validation Loss: {:0.4f}\").format(history_df['val_loss'].min()))"
   ]
  }
 ],
 "metadata": {
  "kernelspec": {
   "display_name": "Python 3.10 (tensorflow)",
   "language": "python",
   "name": "tensorflow"
  },
  "language_info": {
   "codemirror_mode": {
    "name": "ipython",
    "version": 3
   },
   "file_extension": ".py",
   "mimetype": "text/x-python",
   "name": "python",
   "nbconvert_exporter": "python",
   "pygments_lexer": "ipython3",
   "version": "3.10.8"
  },
  "toc": {
   "base_numbering": 1,
   "nav_menu": {},
   "number_sections": true,
   "sideBar": true,
   "skip_h1_title": false,
   "title_cell": "Table of Contents",
   "title_sidebar": "Contents",
   "toc_cell": false,
   "toc_position": {},
   "toc_section_display": true,
   "toc_window_display": false
  }
 },
 "nbformat": 4,
 "nbformat_minor": 5
}

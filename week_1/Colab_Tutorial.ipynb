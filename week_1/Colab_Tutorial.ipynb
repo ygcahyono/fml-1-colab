{
 "cells": [
  {
   "cell_type": "markdown",
   "metadata": {
    "id": "LIoXU0VVYhr6"
   },
   "source": [
    "# Introduction to Colab\n",
    "This example notebook shows how to read and write data in Google Colab.\n",
    "\n",
    "To run this notebook, you should download the dataset \"eur_usd.csv\", create a folder \"Data\" and upload the data to the Colab Notebooks/Data/eur_usd.csv directory\n",
    "---\n",
    "\n",
    "\n",
    "## Import library\n",
    "In Google Colab, you can import libraries as the normal python code"
   ]
  },
  {
   "cell_type": "code",
   "execution_count": 1,
   "metadata": {
    "colab": {
     "base_uri": "https://localhost:8080/"
    },
    "id": "LEzjj5Q-YuEi",
    "outputId": "fa23e471-069d-455d-cc8c-c275ad4d4427"
   },
   "outputs": [
    {
     "name": "stdout",
     "output_type": "stream",
     "text": [
      "2.11.0\n",
      "2.11.0\n",
      "1.24.1\n",
      "1.5.2\n"
     ]
    }
   ],
   "source": [
    "import tensorflow as tf\n",
    "import keras as ks\n",
    "import numpy as np\n",
    "import pandas as pd\n",
    "import matplotlib.pyplot as plt\n",
    "import torch\n",
    "\n",
    "print(tf.__version__)\n",
    "print(ks.__version__)\n",
    "print(np.__version__)\n",
    "print(pd.__version__)"
   ]
  },
  {
   "cell_type": "code",
   "execution_count": 1,
   "metadata": {
    "colab": {
     "base_uri": "https://localhost:8080/"
    },
    "id": "LEzjj5Q-YuEi",
    "outputId": "fa23e471-069d-455d-cc8c-c275ad4d4427"
   },
   "outputs": [
    {
     "name": "stdout",
     "output_type": "stream",
     "text": [
      "2.11.0\n",
      "2.11.0\n",
      "1.24.1\n",
      "1.5.2\n"
     ]
    }
   ],
   "source": [
    "import tensorflow as tf\n",
    "import keras as ks\n",
    "import numpy as np\n",
    "import pandas as pd\n",
    "import matplotlib.pyplot as plt\n",
    "import torch\n",
    "\n",
    "print(tf.__version__)\n",
    "print(ks.__version__)\n",
    "print(np.__version__)\n",
    "print(pd.__version__)"
   ]
  },
  {
   "cell_type": "markdown",
   "metadata": {
    "id": "a3xChbofcDVI"
   },
   "source": [
    "\n",
    "\n",
    "---\n",
    "\n",
    "\n",
    "## We can install the library we like"
   ]
  },
  {
   "cell_type": "code",
   "execution_count": 2,
   "metadata": {
    "colab": {
     "base_uri": "https://localhost:8080/",
     "height": 664
    },
    "id": "frVGutHc1RCR",
    "outputId": "965c0372-e278-4c40-d220-54d7bc538081"
   },
   "outputs": [
    {
     "name": "stdout",
     "output_type": "stream",
     "text": [
      "Mounted at /drive\n",
      "                       HIGH     LOW    OPEN   CLOSE\n",
      "Date                                               \n",
      "2019-10-01 00:00:00  1.0899  1.0897  1.0897  1.0899\n",
      "2019-10-01 00:01:00  1.0899  1.0896  1.0899  1.0898\n",
      "2019-10-01 00:02:00  1.0898  1.0896  1.0898  1.0896\n",
      "2019-10-01 00:03:00  1.0898  1.0896  1.0897  1.0898\n",
      "2019-10-01 00:04:00  1.0898  1.0896  1.0897  1.0898\n",
      "                      CLOSE\n",
      "Date                       \n",
      "2019-10-01 00:00:00  1.0899\n",
      "2019-10-01 00:01:00  1.0898\n",
      "2019-10-01 00:02:00  1.0896\n",
      "2019-10-01 00:03:00  1.0898\n",
      "2019-10-01 00:04:00  1.0898\n"
     ]
    },
    {
     "data": {
      "text/plain": [
       "True"
      ]
     },
     "execution_count": 2,
     "metadata": {},
     "output_type": "execute_result"
    },
    {
     "data": {
      "image/png": "[encoded data removed]",
      "text/plain": [
       "<Figure size 720x432 with 1 Axes>"
      ]
     },
     "metadata": {
      "needs_background": "light"
     },
     "output_type": "display_data"
    }
   ],
   "source": [
    "'''\n",
    "To read data, you shall upload data (csv, xlsx, txt...) to your google drive, \n",
    "and mount google drive to your Colab environment, \n",
    "and then you can use Pandas to read the data directly\n",
    "!! The first time you open the Google Colab and try to read from your google drive, \n",
    "you will need to authenticate yourself !! \n",
    "After the authentication, as long as your session is on, you don't need to do this again.\n",
    "This authentication will be valid until you disconnect your runtime (or restart your runtime)\n",
    "''' \n",
    "\n",
    "from google.colab import drive\n",
    "\n",
    "#### mount the Google drive as a path that you can work on \n",
    "drive.mount('/drive')\n",
    "\n",
    "#### the Google Drive path always starts with '/drive/My Drive/', you can define your own file directory\n",
    "raw = pd.read_csv('/drive/My Drive/Colab Notebooks/Data/eur_usd.csv', parse_dates=True)\n",
    "\n",
    "\n",
    "#### transform the date to datetime format\n",
    "raw['Date'] = pd.to_datetime(raw['Date'])\n",
    "raw.set_index('Date', inplace=True)\n",
    "print(raw.head())\n",
    "\n",
    "\n",
    "#### to save to the csv file on Google Drive\n",
    "eur_usd_close = raw[['CLOSE']].copy()\n",
    "print(eur_usd_close.head())\n",
    "\n",
    "\n",
    "#### plot the data\n",
    "plt.figure(figsize=(10, 6))\n",
    "plt.plot(eur_usd_close['CLOSE'], 'b-')\n",
    "plt.legend(['eur/usd rate'])\n",
    "# save the fig to the file, please check the saved pdf and try download them to your laptop\n",
    "plt.savefig('/drive/My Drive/Colab Notebooks/eur_usd_close.pdf')\n",
    "\n",
    "\n",
    "#### write to file ####\n",
    "# try to check the saved file and download it to your laptop\n",
    "eur_usd_close.to_csv('/drive/My Drive/Colab Notebooks/Data/eur_usd_close.csv')\n",
    "\n",
    "\n",
    "# check whether your file has been written to your path\n",
    "from os.path import exists\n",
    "exists('/drive/My Drive/Colab Notebooks/Data/eur_usd_close.csv')"
   ]
  }
 ],
 "metadata": {
  "colab": {
   "provenance": []
  },
  "kernelspec": {
   "display_name": "Python 3 (ipykernel)",
   "language": "python",
   "name": "python3"
  },
  "language_info": {
   "codemirror_mode": {
    "name": "ipython",
    "version": 3
   },
   "file_extension": ".py",
   "mimetype": "text/x-python",
   "name": "python",
   "nbconvert_exporter": "python",
   "pygments_lexer": "ipython3",
   "version": "3.10.8"
  },
  "toc": {
   "base_numbering": 1,
   "nav_menu": {},
   "number_sections": true,
   "sideBar": true,
   "skip_h1_title": false,
   "title_cell": "Table of Contents",
   "title_sidebar": "Contents",
   "toc_cell": false,
   "toc_position": {},
   "toc_section_display": true,
   "toc_window_display": false
  }
 },
 "nbformat": 4,
 "nbformat_minor": 1
}
